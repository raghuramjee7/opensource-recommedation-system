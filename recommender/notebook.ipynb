{
 "cells": [
  {
   "cell_type": "code",
   "execution_count": 15,
   "id": "2ba05120",
   "metadata": {},
   "outputs": [],
   "source": [
    "import numpy as numpy\n",
    "import pandas as pd \n",
    "import matplotlib.pyplot as plt\n",
    "%matplotlib inline\n",
    "\n",
    "from sklearn.metrics.pairwise import cosine_similarity\n",
    "from sklearn.feature_extraction.text import CountVectorizer\n",
    "from sklearn.preprocessing import LabelEncoder"
   ]
  },
  {
   "cell_type": "code",
   "execution_count": 16,
   "id": "9e33c18e",
   "metadata": {},
   "outputs": [],
   "source": [
    "df = pd.read_csv(\"TopStaredRepositories.csv\")"
   ]
  },
  {
   "cell_type": "code",
   "execution_count": 17,
   "id": "3a0e4e65",
   "metadata": {},
   "outputs": [
    {
     "data": {
      "text/html": [
       "<div>\n",
       "<style scoped>\n",
       "    .dataframe tbody tr th:only-of-type {\n",
       "        vertical-align: middle;\n",
       "    }\n",
       "\n",
       "    .dataframe tbody tr th {\n",
       "        vertical-align: top;\n",
       "    }\n",
       "\n",
       "    .dataframe thead th {\n",
       "        text-align: right;\n",
       "    }\n",
       "</style>\n",
       "<table border=\"1\" class=\"dataframe\">\n",
       "  <thead>\n",
       "    <tr style=\"text-align: right;\">\n",
       "      <th></th>\n",
       "      <th>Username</th>\n",
       "      <th>Repository Name</th>\n",
       "      <th>Description</th>\n",
       "      <th>Last Update Date</th>\n",
       "      <th>Language</th>\n",
       "      <th>Number of Stars</th>\n",
       "      <th>Tags</th>\n",
       "      <th>Url</th>\n",
       "    </tr>\n",
       "  </thead>\n",
       "  <tbody>\n",
       "    <tr>\n",
       "      <th>0</th>\n",
       "      <td>freeCodeCamp</td>\n",
       "      <td>freeCodeCamp</td>\n",
       "      <td>The https://freeCodeCamp.com open source codeb...</td>\n",
       "      <td>2017-06-24T15:56:17Z</td>\n",
       "      <td>JavaScript</td>\n",
       "      <td>290k</td>\n",
       "      <td>nonprofits,certification,curriculum,react,node...</td>\n",
       "      <td>https://github.com/freeCodeCamp/freeCodeCamp</td>\n",
       "    </tr>\n",
       "    <tr>\n",
       "      <th>1</th>\n",
       "      <td>twbs</td>\n",
       "      <td>bootstrap</td>\n",
       "      <td>The most popular HTML, CSS, and JavaScript fra...</td>\n",
       "      <td>2017-06-24T15:40:21Z</td>\n",
       "      <td>JavaScript</td>\n",
       "      <td>112k</td>\n",
       "      <td>javascript,css,html,bootstrap,jekyll-site,scss</td>\n",
       "      <td>https://github.com/twbs/bootstrap</td>\n",
       "    </tr>\n",
       "    <tr>\n",
       "      <th>2</th>\n",
       "      <td>EbookFoundation</td>\n",
       "      <td>free-programming-books</td>\n",
       "      <td>Freely available programming books</td>\n",
       "      <td>2017-06-23T01:09:34Z</td>\n",
       "      <td>NaN</td>\n",
       "      <td>87.8k</td>\n",
       "      <td>education,list,books,resource</td>\n",
       "      <td>https://github.com/EbookFoundation/free-progra...</td>\n",
       "    </tr>\n",
       "    <tr>\n",
       "      <th>3</th>\n",
       "      <td>facebook</td>\n",
       "      <td>react</td>\n",
       "      <td>A declarative, efficient, and flexible JavaScr...</td>\n",
       "      <td>2017-06-24T19:33:49Z</td>\n",
       "      <td>JavaScript</td>\n",
       "      <td>69.7k</td>\n",
       "      <td>NaN</td>\n",
       "      <td>https://github.com/facebook/react</td>\n",
       "    </tr>\n",
       "    <tr>\n",
       "      <th>4</th>\n",
       "      <td>d3</td>\n",
       "      <td>d3</td>\n",
       "      <td>Bring data to life with SVG, Canvas and HTML.</td>\n",
       "      <td>2017-05-31T06:03:47Z</td>\n",
       "      <td>JavaScript</td>\n",
       "      <td>65.7k</td>\n",
       "      <td>visualization</td>\n",
       "      <td>https://github.com/d3/d3</td>\n",
       "    </tr>\n",
       "  </tbody>\n",
       "</table>\n",
       "</div>"
      ],
      "text/plain": [
       "          Username         Repository Name  \\\n",
       "0     freeCodeCamp            freeCodeCamp   \n",
       "1             twbs               bootstrap   \n",
       "2  EbookFoundation  free-programming-books   \n",
       "3         facebook                   react   \n",
       "4               d3                      d3   \n",
       "\n",
       "                                         Description      Last Update Date  \\\n",
       "0  The https://freeCodeCamp.com open source codeb...  2017-06-24T15:56:17Z   \n",
       "1  The most popular HTML, CSS, and JavaScript fra...  2017-06-24T15:40:21Z   \n",
       "2                 Freely available programming books  2017-06-23T01:09:34Z   \n",
       "3  A declarative, efficient, and flexible JavaScr...  2017-06-24T19:33:49Z   \n",
       "4     Bring data to life with SVG, Canvas and HTML.   2017-05-31T06:03:47Z   \n",
       "\n",
       "     Language Number of Stars  \\\n",
       "0  JavaScript            290k   \n",
       "1  JavaScript            112k   \n",
       "2         NaN           87.8k   \n",
       "3  JavaScript           69.7k   \n",
       "4  JavaScript           65.7k   \n",
       "\n",
       "                                                Tags  \\\n",
       "0  nonprofits,certification,curriculum,react,node...   \n",
       "1     javascript,css,html,bootstrap,jekyll-site,scss   \n",
       "2                      education,list,books,resource   \n",
       "3                                                NaN   \n",
       "4                                      visualization   \n",
       "\n",
       "                                                 Url  \n",
       "0       https://github.com/freeCodeCamp/freeCodeCamp  \n",
       "1                  https://github.com/twbs/bootstrap  \n",
       "2  https://github.com/EbookFoundation/free-progra...  \n",
       "3                  https://github.com/facebook/react  \n",
       "4                           https://github.com/d3/d3  "
      ]
     },
     "execution_count": 17,
     "metadata": {},
     "output_type": "execute_result"
    }
   ],
   "source": [
    "df.head()"
   ]
  },
  {
   "cell_type": "markdown",
   "id": "fe9d1c92",
   "metadata": {},
   "source": [
    "## Let us now remove unnecessary columns and only keep required columns"
   ]
  },
  {
   "cell_type": "code",
   "execution_count": 18,
   "id": "4abe431c",
   "metadata": {},
   "outputs": [],
   "source": [
    "df.drop([\"Last Update Date\"], axis=\"columns\", inplace = True)"
   ]
  },
  {
   "cell_type": "code",
   "execution_count": 19,
   "id": "6fb12955",
   "metadata": {},
   "outputs": [
    {
     "data": {
      "text/html": [
       "<div>\n",
       "<style scoped>\n",
       "    .dataframe tbody tr th:only-of-type {\n",
       "        vertical-align: middle;\n",
       "    }\n",
       "\n",
       "    .dataframe tbody tr th {\n",
       "        vertical-align: top;\n",
       "    }\n",
       "\n",
       "    .dataframe thead th {\n",
       "        text-align: right;\n",
       "    }\n",
       "</style>\n",
       "<table border=\"1\" class=\"dataframe\">\n",
       "  <thead>\n",
       "    <tr style=\"text-align: right;\">\n",
       "      <th></th>\n",
       "      <th>Username</th>\n",
       "      <th>Repository Name</th>\n",
       "      <th>Description</th>\n",
       "      <th>Language</th>\n",
       "      <th>Number of Stars</th>\n",
       "      <th>Tags</th>\n",
       "      <th>Url</th>\n",
       "    </tr>\n",
       "  </thead>\n",
       "  <tbody>\n",
       "    <tr>\n",
       "      <th>0</th>\n",
       "      <td>freeCodeCamp</td>\n",
       "      <td>freeCodeCamp</td>\n",
       "      <td>The https://freeCodeCamp.com open source codeb...</td>\n",
       "      <td>JavaScript</td>\n",
       "      <td>290k</td>\n",
       "      <td>nonprofits,certification,curriculum,react,node...</td>\n",
       "      <td>https://github.com/freeCodeCamp/freeCodeCamp</td>\n",
       "    </tr>\n",
       "    <tr>\n",
       "      <th>1</th>\n",
       "      <td>twbs</td>\n",
       "      <td>bootstrap</td>\n",
       "      <td>The most popular HTML, CSS, and JavaScript fra...</td>\n",
       "      <td>JavaScript</td>\n",
       "      <td>112k</td>\n",
       "      <td>javascript,css,html,bootstrap,jekyll-site,scss</td>\n",
       "      <td>https://github.com/twbs/bootstrap</td>\n",
       "    </tr>\n",
       "    <tr>\n",
       "      <th>2</th>\n",
       "      <td>EbookFoundation</td>\n",
       "      <td>free-programming-books</td>\n",
       "      <td>Freely available programming books</td>\n",
       "      <td>NaN</td>\n",
       "      <td>87.8k</td>\n",
       "      <td>education,list,books,resource</td>\n",
       "      <td>https://github.com/EbookFoundation/free-progra...</td>\n",
       "    </tr>\n",
       "    <tr>\n",
       "      <th>3</th>\n",
       "      <td>facebook</td>\n",
       "      <td>react</td>\n",
       "      <td>A declarative, efficient, and flexible JavaScr...</td>\n",
       "      <td>JavaScript</td>\n",
       "      <td>69.7k</td>\n",
       "      <td>NaN</td>\n",
       "      <td>https://github.com/facebook/react</td>\n",
       "    </tr>\n",
       "    <tr>\n",
       "      <th>4</th>\n",
       "      <td>d3</td>\n",
       "      <td>d3</td>\n",
       "      <td>Bring data to life with SVG, Canvas and HTML.</td>\n",
       "      <td>JavaScript</td>\n",
       "      <td>65.7k</td>\n",
       "      <td>visualization</td>\n",
       "      <td>https://github.com/d3/d3</td>\n",
       "    </tr>\n",
       "  </tbody>\n",
       "</table>\n",
       "</div>"
      ],
      "text/plain": [
       "          Username         Repository Name  \\\n",
       "0     freeCodeCamp            freeCodeCamp   \n",
       "1             twbs               bootstrap   \n",
       "2  EbookFoundation  free-programming-books   \n",
       "3         facebook                   react   \n",
       "4               d3                      d3   \n",
       "\n",
       "                                         Description    Language  \\\n",
       "0  The https://freeCodeCamp.com open source codeb...  JavaScript   \n",
       "1  The most popular HTML, CSS, and JavaScript fra...  JavaScript   \n",
       "2                 Freely available programming books         NaN   \n",
       "3  A declarative, efficient, and flexible JavaScr...  JavaScript   \n",
       "4     Bring data to life with SVG, Canvas and HTML.   JavaScript   \n",
       "\n",
       "  Number of Stars                                               Tags  \\\n",
       "0            290k  nonprofits,certification,curriculum,react,node...   \n",
       "1            112k     javascript,css,html,bootstrap,jekyll-site,scss   \n",
       "2           87.8k                      education,list,books,resource   \n",
       "3           69.7k                                                NaN   \n",
       "4           65.7k                                      visualization   \n",
       "\n",
       "                                                 Url  \n",
       "0       https://github.com/freeCodeCamp/freeCodeCamp  \n",
       "1                  https://github.com/twbs/bootstrap  \n",
       "2  https://github.com/EbookFoundation/free-progra...  \n",
       "3                  https://github.com/facebook/react  \n",
       "4                           https://github.com/d3/d3  "
      ]
     },
     "execution_count": 19,
     "metadata": {},
     "output_type": "execute_result"
    }
   ],
   "source": [
    "df.head()"
   ]
  },
  {
   "cell_type": "code",
   "execution_count": 20,
   "id": "096c8093",
   "metadata": {},
   "outputs": [
    {
     "name": "stdout",
     "output_type": "stream",
     "text": [
      "<class 'pandas.core.frame.DataFrame'>\n",
      "RangeIndex: 980 entries, 0 to 979\n",
      "Data columns (total 7 columns):\n",
      " #   Column           Non-Null Count  Dtype \n",
      "---  ------           --------------  ----- \n",
      " 0   Username         980 non-null    object\n",
      " 1   Repository Name  980 non-null    object\n",
      " 2   Description      977 non-null    object\n",
      " 3   Language         877 non-null    object\n",
      " 4   Number of Stars  980 non-null    object\n",
      " 5   Tags             489 non-null    object\n",
      " 6   Url              980 non-null    object\n",
      "dtypes: object(7)\n",
      "memory usage: 53.7+ KB\n"
     ]
    }
   ],
   "source": [
    "df.info()"
   ]
  },
  {
   "cell_type": "code",
   "execution_count": 21,
   "id": "24a5bfd1",
   "metadata": {},
   "outputs": [],
   "source": [
    "encoder=LabelEncoder()\n",
    "df[\"url_id\"] = encoder.fit_transform(df.Url)"
   ]
  },
  {
   "cell_type": "code",
   "execution_count": 22,
   "id": "12ee67e8",
   "metadata": {},
   "outputs": [
    {
     "data": {
      "text/html": [
       "<div>\n",
       "<style scoped>\n",
       "    .dataframe tbody tr th:only-of-type {\n",
       "        vertical-align: middle;\n",
       "    }\n",
       "\n",
       "    .dataframe tbody tr th {\n",
       "        vertical-align: top;\n",
       "    }\n",
       "\n",
       "    .dataframe thead th {\n",
       "        text-align: right;\n",
       "    }\n",
       "</style>\n",
       "<table border=\"1\" class=\"dataframe\">\n",
       "  <thead>\n",
       "    <tr style=\"text-align: right;\">\n",
       "      <th></th>\n",
       "      <th>Username</th>\n",
       "      <th>Repository Name</th>\n",
       "      <th>Description</th>\n",
       "      <th>Language</th>\n",
       "      <th>Number of Stars</th>\n",
       "      <th>Tags</th>\n",
       "      <th>Url</th>\n",
       "      <th>url_id</th>\n",
       "    </tr>\n",
       "  </thead>\n",
       "  <tbody>\n",
       "    <tr>\n",
       "      <th>0</th>\n",
       "      <td>freeCodeCamp</td>\n",
       "      <td>freeCodeCamp</td>\n",
       "      <td>The https://freeCodeCamp.com open source codeb...</td>\n",
       "      <td>JavaScript</td>\n",
       "      <td>290k</td>\n",
       "      <td>nonprofits,certification,curriculum,react,node...</td>\n",
       "      <td>https://github.com/freeCodeCamp/freeCodeCamp</td>\n",
       "      <td>409</td>\n",
       "    </tr>\n",
       "    <tr>\n",
       "      <th>1</th>\n",
       "      <td>twbs</td>\n",
       "      <td>bootstrap</td>\n",
       "      <td>The most popular HTML, CSS, and JavaScript fra...</td>\n",
       "      <td>JavaScript</td>\n",
       "      <td>112k</td>\n",
       "      <td>javascript,css,html,bootstrap,jekyll-site,scss</td>\n",
       "      <td>https://github.com/twbs/bootstrap</td>\n",
       "      <td>922</td>\n",
       "    </tr>\n",
       "    <tr>\n",
       "      <th>2</th>\n",
       "      <td>EbookFoundation</td>\n",
       "      <td>free-programming-books</td>\n",
       "      <td>Freely available programming books</td>\n",
       "      <td>NaN</td>\n",
       "      <td>87.8k</td>\n",
       "      <td>education,list,books,resource</td>\n",
       "      <td>https://github.com/EbookFoundation/free-progra...</td>\n",
       "      <td>38</td>\n",
       "    </tr>\n",
       "    <tr>\n",
       "      <th>3</th>\n",
       "      <td>facebook</td>\n",
       "      <td>react</td>\n",
       "      <td>A declarative, efficient, and flexible JavaScr...</td>\n",
       "      <td>JavaScript</td>\n",
       "      <td>69.7k</td>\n",
       "      <td>NaN</td>\n",
       "      <td>https://github.com/facebook/react</td>\n",
       "      <td>385</td>\n",
       "    </tr>\n",
       "    <tr>\n",
       "      <th>4</th>\n",
       "      <td>d3</td>\n",
       "      <td>d3</td>\n",
       "      <td>Bring data to life with SVG, Canvas and HTML.</td>\n",
       "      <td>JavaScript</td>\n",
       "      <td>65.7k</td>\n",
       "      <td>visualization</td>\n",
       "      <td>https://github.com/d3/d3</td>\n",
       "      <td>308</td>\n",
       "    </tr>\n",
       "  </tbody>\n",
       "</table>\n",
       "</div>"
      ],
      "text/plain": [
       "          Username         Repository Name  \\\n",
       "0     freeCodeCamp            freeCodeCamp   \n",
       "1             twbs               bootstrap   \n",
       "2  EbookFoundation  free-programming-books   \n",
       "3         facebook                   react   \n",
       "4               d3                      d3   \n",
       "\n",
       "                                         Description    Language  \\\n",
       "0  The https://freeCodeCamp.com open source codeb...  JavaScript   \n",
       "1  The most popular HTML, CSS, and JavaScript fra...  JavaScript   \n",
       "2                 Freely available programming books         NaN   \n",
       "3  A declarative, efficient, and flexible JavaScr...  JavaScript   \n",
       "4     Bring data to life with SVG, Canvas and HTML.   JavaScript   \n",
       "\n",
       "  Number of Stars                                               Tags  \\\n",
       "0            290k  nonprofits,certification,curriculum,react,node...   \n",
       "1            112k     javascript,css,html,bootstrap,jekyll-site,scss   \n",
       "2           87.8k                      education,list,books,resource   \n",
       "3           69.7k                                                NaN   \n",
       "4           65.7k                                      visualization   \n",
       "\n",
       "                                                 Url  url_id  \n",
       "0       https://github.com/freeCodeCamp/freeCodeCamp     409  \n",
       "1                  https://github.com/twbs/bootstrap     922  \n",
       "2  https://github.com/EbookFoundation/free-progra...      38  \n",
       "3                  https://github.com/facebook/react     385  \n",
       "4                           https://github.com/d3/d3     308  "
      ]
     },
     "execution_count": 22,
     "metadata": {},
     "output_type": "execute_result"
    }
   ],
   "source": [
    "df.head()"
   ]
  },
  {
   "cell_type": "markdown",
   "id": "914412be",
   "metadata": {},
   "source": [
    "## Now, let us create a function to combine the tags, language and description"
   ]
  },
  {
   "cell_type": "code",
   "execution_count": 42,
   "id": "d1394c9b",
   "metadata": {},
   "outputs": [],
   "source": [
    "def combined_feature(data):\n",
    "    features = []\n",
    "    \n",
    "    for i in range(0, data.shape[0]):\n",
    "        \n",
    "        language = str(data[\"Language\"][i])\n",
    "        tags = \" \".join(str(data[\"Tags\"][i]).split(\",\"))\n",
    "        \n",
    "        res = language + \" \" + tags\n",
    "        res = res.split()\n",
    "        res = [i.lower() for i in res if i!=\"nan\"]\n",
    "        res = \" \".join(res)\n",
    "        \n",
    "        features.append(res) \n",
    "        \n",
    "    return features"
   ]
  },
  {
   "cell_type": "code",
   "execution_count": 43,
   "id": "bf5e18aa",
   "metadata": {},
   "outputs": [],
   "source": [
    "df[\"combined\"] = combined_feature(df)"
   ]
  },
  {
   "cell_type": "code",
   "execution_count": 44,
   "id": "c3a6812a",
   "metadata": {},
   "outputs": [
    {
     "data": {
      "text/plain": [
       "'javascript async-functions assert ava javascript test-runner tap concurrency babel es2015 nodejs cli async performance unicorns unit-testing cli-app node tdd testing test-framework'"
      ]
     },
     "execution_count": 44,
     "metadata": {},
     "output_type": "execute_result"
    }
   ],
   "source": [
    "df[\"combined\"][400]"
   ]
  },
  {
   "cell_type": "code",
   "execution_count": 46,
   "id": "4f3f4b9b",
   "metadata": {},
   "outputs": [],
   "source": [
    "cm = CountVectorizer().fit_transform(df[\"combined\"])"
   ]
  },
  {
   "cell_type": "code",
   "execution_count": 48,
   "id": "e68616ed",
   "metadata": {},
   "outputs": [
    {
     "data": {
      "text/plain": [
       "(980, 1377)"
      ]
     },
     "execution_count": 48,
     "metadata": {},
     "output_type": "execute_result"
    }
   ],
   "source": [
    "cm.shape"
   ]
  },
  {
   "cell_type": "code",
   "execution_count": 49,
   "id": "f6bf18f0",
   "metadata": {},
   "outputs": [],
   "source": [
    "cs = cosine_similarity(cm)"
   ]
  },
  {
   "cell_type": "code",
   "execution_count": 53,
   "id": "4ed1c363",
   "metadata": {},
   "outputs": [
    {
     "data": {
      "text/plain": [
       "array([0.34684399, 0.47809144, 0.        , 0.75592895, 0.53452248,\n",
       "       0.30237158, 0.        , 0.        , 1.        , 0.75592895])"
      ]
     },
     "execution_count": 53,
     "metadata": {},
     "output_type": "execute_result"
    }
   ],
   "source": [
    "cs[8][:10]"
   ]
  },
  {
   "cell_type": "code",
   "execution_count": 77,
   "id": "3c087ef9",
   "metadata": {},
   "outputs": [
    {
     "data": {
      "text/plain": [
       "Username                                                    facebook\n",
       "Repository Name                                                react\n",
       "Description        A declarative, efficient, and flexible JavaScr...\n",
       "Language                                                  JavaScript\n",
       "Number of Stars                                                69.7k\n",
       "Tags                                                             NaN\n",
       "Url                                https://github.com/facebook/react\n",
       "url_id                                                           385\n",
       "combined                                                  javascript\n",
       "Name: 3, dtype: object"
      ]
     },
     "execution_count": 77,
     "metadata": {},
     "output_type": "execute_result"
    }
   ],
   "source": [
    "df.iloc[3]"
   ]
  },
  {
   "cell_type": "code",
   "execution_count": null,
   "id": "4bbcf9c6",
   "metadata": {},
   "outputs": [],
   "source": [
    "def cosine_similarity(user, current):\n",
    "    "
   ]
  }
 ],
 "metadata": {
  "kernelspec": {
   "display_name": "Python 3 (ipykernel)",
   "language": "python",
   "name": "python3"
  },
  "language_info": {
   "codemirror_mode": {
    "name": "ipython",
    "version": 3
   },
   "file_extension": ".py",
   "mimetype": "text/x-python",
   "name": "python",
   "nbconvert_exporter": "python",
   "pygments_lexer": "ipython3",
   "version": "3.9.12"
  }
 },
 "nbformat": 4,
 "nbformat_minor": 5
}
